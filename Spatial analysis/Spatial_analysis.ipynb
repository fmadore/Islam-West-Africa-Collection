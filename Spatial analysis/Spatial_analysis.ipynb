{
 "cells": [
  {
   "cell_type": "markdown",
   "id": "4221a6ca",
   "metadata": {},
   "source": [
    "## Interactive map"
   ]
  },
  {
   "cell_type": "code",
   "execution_count": 2,
   "id": "339df714",
   "metadata": {},
   "outputs": [],
   "source": [
    "import warnings\n",
    "warnings.filterwarnings(\"ignore\", category=UserWarning, module=\"openpyxl\")"
   ]
  },
  {
   "cell_type": "code",
   "execution_count": 3,
   "id": "3c5f9864",
   "metadata": {},
   "outputs": [
    {
     "data": {
      "text/html": [
       "<a href='interactive_map.html' target='_blank'>interactive_map.html</a><br>"
      ],
      "text/plain": [
       "C:\\Users\\Frédérick\\GitHub\\Islam-West-Africa-Collection\\Textual analysis\\Spatial analysis\\interactive_map.html"
      ]
     },
     "execution_count": 3,
     "metadata": {},
     "output_type": "execute_result"
    }
   ],
   "source": [
    "import pandas as pd\n",
    "import folium\n",
    "from IPython.display import FileLink\n",
    "\n",
    "# Function to parse coordinates\n",
    "def parse_coordinates(coord_str):\n",
    "    coords = [tuple(map(float, c.split(','))) for c in coord_str.split(' | ') if c]\n",
    "    return coords\n",
    "\n",
    "# Load your data\n",
    "df = pd.read_excel('corpus-Burkina_GPS.xlsx')\n",
    "\n",
    "# Remove rows where 'coordinate location' is 'nan' or improperly formatted\n",
    "valid_coords_df = df[df['coordinate location'].astype(str).str.contains('nan') == False]\n",
    "\n",
    "# Extract valid coordinates from the DataFrame for the map's starting view\n",
    "all_coords = valid_coords_df['coordinate location'].apply(parse_coordinates).explode().dropna().tolist()\n",
    "latitudes, longitudes = zip(*all_coords) if all_coords else ([], [])\n",
    "\n",
    "# Function to create a folium map with the given DataFrame of valid coordinates\n",
    "def create_interactive_map(dataframe, coordinates):\n",
    "    # Use the first valid coordinate for the initial view of the map\n",
    "    start_location = coordinates[0] if coordinates else [0, 0]\n",
    "    folium_map = folium.Map(location=start_location, zoom_start=5)\n",
    "\n",
    "    # Add points to the map\n",
    "    for _, row in dataframe.iterrows():\n",
    "        coords_list = parse_coordinates(row['coordinate location'])\n",
    "        for coord in coords_list:\n",
    "            popup_text = folium.Popup((\n",
    "                f\"<strong>Date:</strong> {row['Date']}<br>\"\n",
    "                f\"<strong>Title:</strong> {row['Titre']}<br>\"\n",
    "                f\"<strong>Journal:</strong> {row['Journal']}<br>\"\n",
    "                f\"<strong>Keywords:</strong> {row['Keywords']}<br>\"\n",
    "                f\"<strong>Location:</strong> {row['Location']}\"\n",
    "            ), max_width=450)\n",
    "            folium.Marker(location=coord, popup=popup_text).add_to(folium_map)\n",
    "\n",
    "    return folium_map\n",
    "\n",
    "# Create the map\n",
    "interactive_map = create_interactive_map(valid_coords_df, all_coords)\n",
    "\n",
    "# Save the map to an HTML file in the same directory as the Jupyter notebook\n",
    "map_filename = 'interactive_map.html'\n",
    "interactive_map.save(map_filename)\n",
    "\n",
    "# Display a link to download the map\n",
    "FileLink(map_filename)"
   ]
  },
  {
   "cell_type": "markdown",
   "id": "acc1c9d3",
   "metadata": {},
   "source": [
    "## Heatmap\n",
    "A heatmap is a graphical representation of data where individual values contained in a matrix are represented as colors. When applied to geographic data, a heatmap indicates the intensity of information at geographical points, with warmer colors representing higher values.\n",
    "\n",
    "To create a heatmap of your data, we can again use the folium library, specifically the HeatMap plugin, which will allow us to overlay a heatmap on a base map. Here's how you can do it in your Jupyter notebook:\n",
    "\n",
    "1. Install the folium library, if not already installed.\n",
    "2. Prepare the data by ensuring all coordinates are correctly formatted.\n",
    "3. Create a folium map and add a HeatMap layer with the coordinates.\n",
    "4. Save the heatmap to an HTML file for viewing."
   ]
  },
  {
   "cell_type": "code",
   "execution_count": 5,
   "id": "041811c9",
   "metadata": {},
   "outputs": [
    {
     "data": {
      "text/html": [
       "<a href='heatmap.html' target='_blank'>heatmap.html</a><br>"
      ],
      "text/plain": [
       "C:\\Users\\Frédérick\\GitHub\\Islam-West-Africa-Collection\\Textual analysis\\Spatial analysis\\heatmap.html"
      ]
     },
     "execution_count": 5,
     "metadata": {},
     "output_type": "execute_result"
    }
   ],
   "source": [
    "import folium\n",
    "from folium.plugins import HeatMap\n",
    "import pandas as pd\n",
    "from IPython.display import FileLink\n",
    "\n",
    "# Function to parse coordinates\n",
    "def parse_coordinates(coord_str):\n",
    "    coords = [tuple(map(float, c.split(','))) for c in coord_str.split(' | ') if c]\n",
    "    return coords\n",
    "\n",
    "# Load your data\n",
    "df = pd.read_excel('corpus-Burkina_GPS.xlsx')\n",
    "\n",
    "# Remove rows where 'coordinate location' is 'nan' or improperly formatted\n",
    "valid_coords_df = df[df['coordinate location'].astype(str).str.contains('nan') == False]\n",
    "\n",
    "# Extract valid coordinates from the DataFrame for the heatmap\n",
    "all_coords = valid_coords_df['coordinate location'].apply(parse_coordinates).explode().dropna().tolist()\n",
    "\n",
    "# Create a folium map at a high-level zoom\n",
    "start_location = [0, 0]  # This will center the map on the equator and the prime meridian\n",
    "map_for_heatmap = folium.Map(location=start_location, zoom_start=2)\n",
    "\n",
    "# Add the HeatMap layer to the map\n",
    "HeatMap(all_coords).add_to(map_for_heatmap)\n",
    "\n",
    "# Save the heatmap to an HTML file in the same directory as the Jupyter notebook\n",
    "heatmap_filename = 'heatmap.html'\n",
    "map_for_heatmap.save(heatmap_filename)\n",
    "\n",
    "# Display a link to download the heatmap\n",
    "FileLink(heatmap_filename)"
   ]
  }
 ],
 "metadata": {
  "kernelspec": {
   "display_name": "Python 3 (ipykernel)",
   "language": "python",
   "name": "python3"
  },
  "language_info": {
   "codemirror_mode": {
    "name": "ipython",
    "version": 3
   },
   "file_extension": ".py",
   "mimetype": "text/x-python",
   "name": "python",
   "nbconvert_exporter": "python",
   "pygments_lexer": "ipython3",
   "version": "3.9.13"
  }
 },
 "nbformat": 4,
 "nbformat_minor": 5
}
