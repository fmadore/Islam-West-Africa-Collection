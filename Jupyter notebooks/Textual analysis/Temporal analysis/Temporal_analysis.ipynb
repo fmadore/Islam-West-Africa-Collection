{
 "cells": [
  {
   "cell_type": "markdown",
   "id": "271b4f78",
   "metadata": {},
   "source": [
    "# Temporal Analysis\n",
    "Temporal analysis can reveal important trends and patterns in the corpus over time."
   ]
  },
  {
   "cell_type": "markdown",
   "id": "a32ea9e2",
   "metadata": {},
   "source": [
    "## Install dependencies "
   ]
  },
  {
   "cell_type": "code",
   "execution_count": null,
   "id": "dd86b94e",
   "metadata": {},
   "outputs": [],
   "source": [
    "!pip install pandas"
   ]
  },
  {
   "cell_type": "code",
   "execution_count": null,
   "id": "758100d3",
   "metadata": {},
   "outputs": [],
   "source": [
    "!pip install matplotlib"
   ]
  },
  {
   "cell_type": "code",
   "execution_count": null,
   "id": "38408656",
   "metadata": {},
   "outputs": [],
   "source": [
    "!pip install openpyxl"
   ]
  },
  {
   "cell_type": "markdown",
   "id": "a31049e9",
   "metadata": {},
   "source": [
    "## Keyword frequency over time\n",
    "This will show how certain themes or subjects have gained or lost prominence. We'll focus on the 'Date' and 'Keywords' columns. This code will read the Excel spreadsheet, extract the most frequently occurring keywords, and then plot their annual frequency."
   ]
  },
  {
   "cell_type": "code",
   "execution_count": 2,
   "id": "4e1f59b4",
   "metadata": {},
   "outputs": [
    {
     "data": {
      "application/vnd.jupyter.widget-view+json": {
       "model_id": "3d9e880a177440c88bb87dfa3cdeee21",
       "version_major": 2,
       "version_minor": 0
      },
      "text/plain": [
       "Dropdown(description='Select File:', options={'Benin': 'https://raw.githubusercontent.com/fmadore/Islam-West-A…"
      ]
     },
     "metadata": {},
     "output_type": "display_data"
    },
    {
     "data": {
      "application/vnd.jupyter.widget-view+json": {
       "model_id": "769ae233893e43da8187dd8d957a080f",
       "version_major": 2,
       "version_minor": 0
      },
      "text/plain": [
       "IntSlider(value=10, continuous_update=False, description='Keywords:', max=20, min=1)"
      ]
     },
     "metadata": {},
     "output_type": "display_data"
    },
    {
     "data": {
      "application/vnd.jupyter.widget-view+json": {
       "model_id": "9f0d0277f34540a1bc05ded27adcaaca",
       "version_major": 2,
       "version_minor": 0
      },
      "text/plain": [
       "Button(description='Process Data', style=ButtonStyle())"
      ]
     },
     "metadata": {},
     "output_type": "display_data"
    },
    {
     "name": "stdout",
     "output_type": "stream",
     "text": [
      "Please select a file and number of keywords from the dropdowns above.\n",
      "Please select a file and number of keywords from the dropdowns above.\n",
      "Please select a file and number of keywords from the dropdowns above.\n",
      "Please select a file and number of keywords from the dropdowns above.\n",
      "Please select a file and number of keywords from the dropdowns above.\n",
      "Please select a file and number of keywords from the dropdowns above.\n",
      "Please select a file and number of keywords from the dropdowns above.\n",
      "Please select a file and number of keywords from the dropdowns above.\n"
     ]
    }
   ],
   "source": [
    "import ipywidgets as widgets\n",
    "from IPython.display import display\n",
    "from collections import Counter\n",
    "import pandas as pd\n",
    "import matplotlib.pyplot as plt\n",
    "\n",
    "# URLs of the Excel files on GitHub\n",
    "excel_urls = {\n",
    "    'Benin': 'https://raw.githubusercontent.com/fmadore/Islam-West-Africa-Collection/main/Jupyter%20notebooks/Textual%20analysis/corpus_Benin.xlsx',\n",
    "    'Burkina Faso': 'https://raw.githubusercontent.com/fmadore/Islam-West-Africa-Collection/main/Jupyter%20notebooks/Textual%20analysis/corpus_Burkina.xlsx'\n",
    "}\n",
    "\n",
    "# Dropdown widget for selecting the Excel file\n",
    "excel_file_dropdown = widgets.Dropdown(\n",
    "    options=excel_urls,\n",
    "    description='Select File:',\n",
    "    disabled=False,\n",
    ")\n",
    "\n",
    "# Slider widget for selecting the number of keywords\n",
    "num_keywords_slider = widgets.IntSlider(\n",
    "    value=10,\n",
    "    min=1,\n",
    "    max=20,\n",
    "    step=1,\n",
    "    description='Keywords:',\n",
    "    disabled=False,\n",
    "    continuous_update=False\n",
    ")\n",
    "\n",
    "# Button to trigger the processing\n",
    "process_button = widgets.Button(description=\"Process Data\")\n",
    "\n",
    "# Global variables to store the selected file URL and number of keywords\n",
    "selected_file_url = ''\n",
    "selected_num_keywords = 10\n",
    "\n",
    "def on_file_change(change):\n",
    "    global selected_file_url\n",
    "    selected_file_url = change['new']\n",
    "\n",
    "def on_num_keywords_change(change):\n",
    "    global selected_num_keywords\n",
    "    selected_num_keywords = change['new']\n",
    "\n",
    "def process_data(b=None):\n",
    "    global selected_file_url, selected_num_keywords\n",
    "    if selected_file_url:\n",
    "        # Read the Excel file into a DataFrame\n",
    "        df = pd.read_excel(selected_file_url, engine='openpyxl')\n",
    "\n",
    "        # Convert the 'Date' column to datetime format\n",
    "        df['Date'] = pd.to_datetime(df['Date'])\n",
    "\n",
    "        # Extract the year from the 'Date' column and create a new column 'Year'\n",
    "        df['Year'] = df['Date'].dt.year\n",
    "\n",
    "        # Create a Counter object to hold the aggregated keywords\n",
    "        keyword_counter = Counter()\n",
    "\n",
    "        # Update the Counter object with keywords from each row\n",
    "        for keywords in df['Keywords'].dropna():\n",
    "            keyword_list = keywords.split(' | ')\n",
    "            keyword_counter.update(keyword_list)\n",
    "\n",
    "        # Get the most frequently occurring keywords\n",
    "        most_common_keywords = [keyword for keyword, freq in keyword_counter.most_common(selected_num_keywords)]\n",
    "\n",
    "        # Initialize a dictionary to hold the annual keyword frequencies\n",
    "        annual_keyword_freq = {keyword: [] for keyword in most_common_keywords}\n",
    "\n",
    "        # Loop through each year and count the occurrences of the most common keywords\n",
    "        for year, group in df.groupby('Year'):\n",
    "            yearly_counter = Counter()\n",
    "            for keywords in group['Keywords'].dropna():\n",
    "                keyword_list = keywords.split(' | ')\n",
    "                yearly_counter.update(keyword_list)\n",
    "            for keyword in most_common_keywords:\n",
    "                annual_keyword_freq[keyword].append(yearly_counter.get(keyword, 0))\n",
    "\n",
    "        # Create a DataFrame for the annual keyword frequencies\n",
    "        annual_keyword_df = pd.DataFrame(annual_keyword_freq, index=df['Year'].unique())\n",
    "        annual_keyword_df.sort_index(inplace=True)\n",
    "\n",
    "        # Plot the annual keyword frequencies\n",
    "        plt.figure(figsize=(14, 8))\n",
    "        for keyword in most_common_keywords:\n",
    "            plt.plot(annual_keyword_df.index, annual_keyword_df[keyword], label=keyword)\n",
    "\n",
    "        # Determine the selected country for the title\n",
    "        selected_country = 'Benin' if 'Benin' in selected_file_url else 'Burkina Faso'\n",
    "        plt.title(f'Annual Frequency of Top {selected_num_keywords} Keywords in {selected_country}')\n",
    "        plt.xlabel('Year')\n",
    "        plt.ylabel('Frequency')\n",
    "        plt.legend()\n",
    "\n",
    "        # Show the figure\n",
    "        plt.show()\n",
    "    else:\n",
    "        print(\"Please select a file and number of keywords from the dropdowns above.\")\n",
    "\n",
    "# Attach the event handlers to the widgets and the button\n",
    "excel_file_dropdown.observe(on_file_change, names='value')\n",
    "num_keywords_slider.observe(on_num_keywords_change, names='value')\n",
    "process_button.on_click(process_data)\n",
    "\n",
    "# Display the widgets and the button\n",
    "display(excel_file_dropdown)\n",
    "display(num_keywords_slider)\n",
    "display(process_button)"
   ]
  },
  {
   "cell_type": "markdown",
   "id": "01e3d90b",
   "metadata": {},
   "source": [
    "The plot illustrates the annual frequency of the top X most common keywords in the selected corpus. This visualization allows us to observe several interesting trends:\n",
    "+ **Variability**: Some keywords exhibit a more stable frequency over the years, while others show considerable fluctuations.\n",
    "+ **Dominance**: Certain keywords consistently appear more frequently, suggesting their importance or prominence in the dataset.\n",
    "+ **Temporal Shifts**: There may be years where specific keywords spike or dip, which could be indicative of broader socio-political or cultural changes.\n",
    "\n",
    "For a more nuanced understanding, this analysis can be complemented with qualitative assessments or further quantitative measures."
   ]
  },
  {
   "cell_type": "markdown",
   "id": "e25b61c7",
   "metadata": {},
   "source": [
    "## Compare multiple keywords\n",
    "To compare multiple keywords over time, we can modify the existing code to allow for the selection of specific keywords of interest. In this code, replace the list **keywords_to_compare** with the specific keywords you wish to analyze. The plot will then show the annual frequencies of these selected keywords, allowing for a comparative analysis.\n",
    "The list of keywords: **add on GitHub**\n",
    "Replace **excel_url** with the corpus you want to use:\n",
    "+ **Bénin**: https://raw.githubusercontent.com/fmadore/Islam-West-Africa-Collection/main/Jupyter%20notebooks/Textual%20analysis/corpus_Benin.xlsx\n",
    "+ **Burkina Faso**:https://raw.githubusercontent.com/fmadore/Islam-West-Africa-Collection/main/Jupyter%20notebooks/Textual%20analysis/corpus_Burkina.xlsx"
   ]
  },
  {
   "cell_type": "code",
   "execution_count": null,
   "id": "62deb4fb",
   "metadata": {},
   "outputs": [],
   "source": [
    "from collections import Counter\n",
    "import pandas as pd\n",
    "import matplotlib.pyplot as plt\n",
    "\n",
    "# URL of the Excel file on GitHub\n",
    "excel_url = 'https://raw.githubusercontent.com/fmadore/Islam-West-Africa-Collection/main/Jupyter%20notebooks/Textual%20analysis/corpus_Benin.xlsx'\n",
    "\n",
    "# Read the Excel file into a DataFrame\n",
    "df = pd.read_excel(excel_url, engine='openpyxl')\n",
    "\n",
    "# Convert the 'Date' column to datetime format\n",
    "df['Date'] = pd.to_datetime(df['Date'])\n",
    "\n",
    "# Extract the year from the 'Date' column and create a new column 'Year'\n",
    "df['Year'] = df['Date'].dt.year\n",
    "\n",
    "# Keywords to compare (replace these with the keywords you're interested in)\n",
    "keywords_to_compare = ['Hadj', 'Women in Islam', 'Terrorism and radicalization', 'Cooperation with Arab states', 'Secularism', 'Islamic faith-based education', 'Religious pluralism']\n",
    "\n",
    "# Initialize a dictionary to hold the annual keyword frequencies\n",
    "annual_keyword_freq = {keyword: [] for keyword in keywords_to_compare}\n",
    "\n",
    "# Loop through each year and count the occurrences of the specified keywords\n",
    "for year, group in df.groupby('Year'):\n",
    "    yearly_counter = Counter()\n",
    "    for keywords in group['Keywords'].dropna():\n",
    "        keyword_list = keywords.split(' | ')\n",
    "        yearly_counter.update(keyword_list)\n",
    "    for keyword in keywords_to_compare:\n",
    "        annual_keyword_freq[keyword].append(yearly_counter.get(keyword, 0))\n",
    "\n",
    "# Create a DataFrame for the annual keyword frequencies\n",
    "annual_keyword_df = pd.DataFrame(annual_keyword_freq, index=df['Year'].unique())\n",
    "annual_keyword_df.sort_index(inplace=True)\n",
    "\n",
    "# Plot the annual keyword frequencies\n",
    "plt.figure(figsize=(14, 8))\n",
    "for keyword in keywords_to_compare:\n",
    "    plt.plot(annual_keyword_df.index, annual_keyword_df[keyword], label=keyword)\n",
    "plt.title('Annual Frequency of Selected Keywords')\n",
    "plt.xlabel('Year')\n",
    "plt.ylabel('Frequency')\n",
    "plt.legend()\n",
    "\n",
    "# Save the figure\n",
    "plt.savefig('Annual_frequency_selected_keywords.png')\n",
    "# Show the figure\n",
    "plt.show()"
   ]
  }
 ],
 "metadata": {
  "kernelspec": {
   "display_name": "Python 3 (ipykernel)",
   "language": "python",
   "name": "python3"
  },
  "language_info": {
   "codemirror_mode": {
    "name": "ipython",
    "version": 3
   },
   "file_extension": ".py",
   "mimetype": "text/x-python",
   "name": "python",
   "nbconvert_exporter": "python",
   "pygments_lexer": "ipython3",
   "version": "3.9.13"
  }
 },
 "nbformat": 4,
 "nbformat_minor": 5
}
